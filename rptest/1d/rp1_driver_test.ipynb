{
 "metadata": {
  "name": ""
 },
 "nbformat": 3,
 "nbformat_minor": 0,
 "worksheets": [
  {
   "cells": [
    {
     "cell_type": "code",
     "collapsed": false,
     "input": [
      "%matplotlib inline\n",
      "import matplotlib.pyplot as plt\n",
      "import numpy\n",
      "from ipywidgets import StaticInteract, RangeWidget\n",
      "from IPython.display import FileLink\n",
      "from clawpack import riemann"
     ],
     "language": "python",
     "metadata": {},
     "outputs": []
    },
    {
     "cell_type": "code",
     "collapsed": false,
     "input": [
      "from clawpack.riemann import riemann_tools"
     ],
     "language": "python",
     "metadata": {},
     "outputs": []
    },
    {
     "cell_type": "markdown",
     "metadata": {},
     "source": [
      "## Advection"
     ]
    },
    {
     "cell_type": "code",
     "collapsed": false,
     "input": [
      "%%bash\n",
      "make test1_f2py &> f2py_output.txt"
     ],
     "language": "python",
     "metadata": {},
     "outputs": []
    },
    {
     "cell_type": "code",
     "collapsed": false,
     "input": [
      "FileLink('f2py_output.txt')"
     ],
     "language": "python",
     "metadata": {},
     "outputs": []
    },
    {
     "cell_type": "code",
     "collapsed": false,
     "input": [
      "def rp1_solver_advection(ql,qr,auxl=None,auxr=None,problem_data=None):\n",
      "    from test_rp1_meqn1 import rp1_driver\n",
      "    wave,s,amdq,apdq = rp1_driver.call_rp1(1,ql,qr)\n",
      "    wave = wave.reshape((wave.shape[0],wave.shape[1],1))\n",
      "    s = s.reshape((len(s),1))\n",
      "    return wave,s,amdq,apdq"
     ],
     "language": "python",
     "metadata": {},
     "outputs": []
    },
    {
     "cell_type": "code",
     "collapsed": false,
     "input": [
      "num_eqn = 1\n",
      "q_l = 3.  # or array([3.])\n",
      "q_r = 1.  # or array([1.])\n",
      "states, s, riemann_eval = riemann_tools.riemann_solution(num_eqn, rp1_solver_advection, q_l, q_r, None) "
     ],
     "language": "python",
     "metadata": {},
     "outputs": []
    },
    {
     "cell_type": "markdown",
     "metadata": {},
     "source": [
      "## Acoustics"
     ]
    },
    {
     "cell_type": "code",
     "collapsed": false,
     "input": [
      "%%bash\n",
      "make test2_f2py &> f2py_output.txt"
     ],
     "language": "python",
     "metadata": {},
     "outputs": []
    },
    {
     "cell_type": "code",
     "collapsed": false,
     "input": [
      "FileLink('f2py_output.txt')"
     ],
     "language": "python",
     "metadata": {},
     "outputs": []
    },
    {
     "cell_type": "code",
     "collapsed": false,
     "input": [
      "def rp1_solver_acoustics(ql,qr,auxl=None,auxr=None,problem_data=None):\n",
      "    import test_rp1_meqn2\n",
      "    rho = problem_data['rho']\n",
      "    bulk = problem_data['bulk']\n",
      "    test_rp1_meqn2.cparam.rho = rho\n",
      "    test_rp1_meqn2.cparam.bulk = bulk\n",
      "    test_rp1_meqn2.cparam.cc = numpy.sqrt(bulk/rho)\n",
      "    test_rp1_meqn2.cparam.zz = numpy.sqrt(bulk*rho)\n",
      "    wave,s,amdq,apdq = test_rp1_meqn2.rp1_driver.call_rp1(2,ql,qr)\n",
      "    wave = wave.reshape((wave.shape[0],wave.shape[1],1))\n",
      "    s = s.reshape((s.shape[0],1))\n",
      "    return wave,s,amdq,apdq"
     ],
     "language": "python",
     "metadata": {},
     "outputs": []
    },
    {
     "cell_type": "code",
     "collapsed": false,
     "input": [
      "num_eqn = 2\n",
      "problem_data = {}\n",
      "problem_data['rho'] = 1.\n",
      "problem_data['bulk'] = 1.\n",
      "q_l = numpy.array([2.,0.])\n",
      "q_r = numpy.array([1.,0.])\n",
      "\n",
      "states, s, riemann_eval = riemann_tools.riemann_solution(num_eqn, rp1_solver_acoustics, q_l, q_r, problem_data=problem_data) \n",
      "riemann_tools.plot_phase(states)"
     ],
     "language": "python",
     "metadata": {},
     "outputs": []
    },
    {
     "cell_type": "code",
     "collapsed": false,
     "input": [
      "plot_function = riemann_tools.make_plot_function(states,s,riemann_eval)\n",
      "StaticInteract(plot_function, t=RangeWidget(0,.9,.1))"
     ],
     "language": "python",
     "metadata": {},
     "outputs": []
    },
    {
     "cell_type": "code",
     "collapsed": false,
     "input": [],
     "language": "python",
     "metadata": {},
     "outputs": []
    }
   ],
   "metadata": {}
  }
 ]
}
